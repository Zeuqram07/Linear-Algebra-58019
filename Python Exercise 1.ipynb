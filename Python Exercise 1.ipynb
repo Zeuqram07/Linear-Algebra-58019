{
  "nbformat": 4,
  "nbformat_minor": 0,
  "metadata": {
    "colab": {
      "name": "Welcome To Colaboratory",
      "provenance": [],
      "collapsed_sections": [],
      "include_colab_link": true
    },
    "kernelspec": {
      "display_name": "Python 3",
      "name": "python3"
    }
  },
  "cells": [
    {
      "cell_type": "markdown",
      "metadata": {
        "id": "view-in-github",
        "colab_type": "text"
      },
      "source": [
        "<a href=\"https://colab.research.google.com/github/Zeuqram07/Linear-Algebra-58019/blob/main/Python%20Exercise%201.ipynb\" target=\"_parent\"><img src=\"https://colab.research.google.com/assets/colab-badge.svg\" alt=\"Open In Colab\"/></a>"
      ]
    },
    {
      "cell_type": "markdown",
      "metadata": {
        "id": "syoguSK9aOmV"
      },
      "source": [
        "Matrix and Its Operation"
      ]
    },
    {
      "cell_type": "markdown",
      "metadata": {
        "id": "j7EG5f8IZ4Ht"
      },
      "source": [
        "Vector Representation"
      ]
    },
    {
      "cell_type": "code",
      "metadata": {
        "colab": {
          "base_uri": "https://localhost:8080/"
        },
        "id": "6VpxpamkY3e0",
        "outputId": "97f5073f-188d-47ad-9619-b244626afeb2"
      },
      "source": [
        "#sum A + B\n",
        "import numpy as np\n",
        "A = np.array(([-5,0],[4,1]))\n",
        "B = np.array(([6,-3],[2,3]))\n",
        "print(A+B)"
      ],
      "execution_count": 5,
      "outputs": [
        {
          "output_type": "stream",
          "name": "stdout",
          "text": [
            "[[ 1 -3]\n",
            " [ 6  4]]\n"
          ]
        }
      ]
    },
    {
      "cell_type": "code",
      "metadata": {
        "colab": {
          "base_uri": "https://localhost:8080/"
        },
        "id": "45twzCIBZNQe",
        "outputId": "a37dcdda-43c8-4854-ccb9-fd9e9665227c"
      },
      "source": [
        "#difference = A - B\n",
        "A = np.array(([-5,0],[4,1]))\n",
        "B = np.array(([6,-3],[2,3]))\n",
        "print(A-B)"
      ],
      "execution_count": 7,
      "outputs": [
        {
          "output_type": "stream",
          "name": "stdout",
          "text": [
            "[[-11   3]\n",
            " [  2  -2]]\n"
          ]
        }
      ]
    },
    {
      "cell_type": "code",
      "metadata": {
        "colab": {
          "base_uri": "https://localhost:8080/"
        },
        "id": "ysu-uxmjZaY1",
        "outputId": "8c6b4e80-0654-487a-9372-bc9ec1e3610d"
      },
      "source": [
        "#difference2 = B - B\n",
        "A = np.array(([6,-3],[2,3]))\n",
        "B = np.array(([6,-3],[2,3]))\n",
        "print(B-B)"
      ],
      "execution_count": 8,
      "outputs": [
        {
          "output_type": "stream",
          "name": "stdout",
          "text": [
            "[[0 0]\n",
            " [0 0]]\n"
          ]
        }
      ]
    }
  ]
}