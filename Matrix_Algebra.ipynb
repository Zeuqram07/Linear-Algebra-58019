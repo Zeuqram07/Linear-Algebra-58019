{
  "nbformat": 4,
  "nbformat_minor": 0,
  "metadata": {
    "colab": {
      "name": "Matrix Algebra",
      "provenance": [],
      "authorship_tag": "ABX9TyMNsQh69rx9B5LiRPAcU11b",
      "include_colab_link": true
    },
    "kernelspec": {
      "name": "python3",
      "display_name": "Python 3"
    },
    "language_info": {
      "name": "python"
    }
  },
  "cells": [
    {
      "cell_type": "markdown",
      "metadata": {
        "id": "view-in-github",
        "colab_type": "text"
      },
      "source": [
        "<a href=\"https://colab.research.google.com/github/Zeuqram07/Linear-Algebra-58020/blob/main/Matrix_Algebra.ipynb\" target=\"_parent\"><img src=\"https://colab.research.google.com/assets/colab-badge.svg\" alt=\"Open In Colab\"/></a>"
      ]
    },
    {
      "cell_type": "markdown",
      "metadata": {
        "id": "bzpZ9AcWkj09"
      },
      "source": [
        "##Python program to inverse"
      ]
    },
    {
      "cell_type": "code",
      "metadata": {
        "colab": {
          "base_uri": "https://localhost:8080/"
        },
        "id": "zOGKJK9EkcEW",
        "outputId": "eca45d10-ed57-4284-d44e-53b5b53809e4"
      },
      "source": [
        "import numpy as np\n",
        "A = np.array([[1,2],[4,7]])\n",
        "invA = (np.linalg.inv(A))\n",
        "print(invA)"
      ],
      "execution_count": 5,
      "outputs": [
        {
          "output_type": "stream",
          "name": "stdout",
          "text": [
            "[[-7.  2.]\n",
            " [ 4. -1.]]\n"
          ]
        }
      ]
    },
    {
      "cell_type": "code",
      "metadata": {
        "colab": {
          "base_uri": "https://localhost:8080/"
        },
        "id": "vA1enLUdly-8",
        "outputId": "1699e627-b83c-45d7-fec0-754ed2575d60"
      },
      "source": [
        "C=np.dot(A,invA)\n",
        "print(C)"
      ],
      "execution_count": 6,
      "outputs": [
        {
          "output_type": "stream",
          "name": "stdout",
          "text": [
            "[[1. 0.]\n",
            " [0. 1.]]\n"
          ]
        }
      ]
    },
    {
      "cell_type": "code",
      "metadata": {
        "colab": {
          "base_uri": "https://localhost:8080/"
        },
        "id": "x88MYSdqo96V",
        "outputId": "452b0b53-830a-432c-d98b-b5a9b8bbbb64"
      },
      "source": [
        "import numpy as np\n",
        "A = np.array([[2,3,4],[1,5,6],[8,9,1]])\n",
        "B = (np.linalg.inv(A))\n",
        "print (B)"
      ],
      "execution_count": 8,
      "outputs": [
        {
          "output_type": "stream",
          "name": "stdout",
          "text": [
            "[[ 0.60493827 -0.40740741  0.02469136]\n",
            " [-0.58024691  0.37037037  0.09876543]\n",
            " [ 0.38271605 -0.07407407 -0.08641975]]\n"
          ]
        }
      ]
    },
    {
      "cell_type": "markdown",
      "metadata": {
        "id": "OVP3ImHRpBMr"
      },
      "source": [
        "Transpose:"
      ]
    },
    {
      "cell_type": "code",
      "metadata": {
        "colab": {
          "base_uri": "https://localhost:8080/"
        },
        "id": "x721FvNTmIuU",
        "outputId": "ce716647-fe8e-4844-ae13-0c50c191c1cd"
      },
      "source": [
        "##Python program to inverse a 3x3 Matrix A = ([2,3,4],[4,-2,6],[2,7,8])\n",
        "A = np.array([[2,3,4],[4,-2,6],[2,7,8]])\n",
        "print(A)\n",
        "B = np.transpose(A)\n",
        "print(B)"
      ],
      "execution_count": 7,
      "outputs": [
        {
          "output_type": "stream",
          "name": "stdout",
          "text": [
            "[[ 2  3  4]\n",
            " [ 4 -2  6]\n",
            " [ 2  7  8]]\n",
            "[[ 2  4  2]\n",
            " [ 3 -2  7]\n",
            " [ 4  6  8]]\n"
          ]
        }
      ]
    }
  ]
}