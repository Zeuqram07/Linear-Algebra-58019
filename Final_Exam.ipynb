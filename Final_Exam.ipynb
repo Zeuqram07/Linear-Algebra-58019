{
  "nbformat": 4,
  "nbformat_minor": 0,
  "metadata": {
    "colab": {
      "name": "Final Exam.ipynb",
      "provenance": [],
      "authorship_tag": "ABX9TyMsAyrWhobp0xOc5QP19oBq",
      "include_colab_link": true
    },
    "kernelspec": {
      "name": "python3",
      "display_name": "Python 3"
    },
    "language_info": {
      "name": "python"
    }
  },
  "cells": [
    {
      "cell_type": "markdown",
      "metadata": {
        "id": "view-in-github",
        "colab_type": "text"
      },
      "source": [
        "<a href=\"https://colab.research.google.com/github/Zeuqram07/Linear-Algebra-58020/blob/main/Final_Exam.ipynb\" target=\"_parent\"><img src=\"https://colab.research.google.com/assets/colab-badge.svg\" alt=\"Open In Colab\"/></a>"
      ]
    },
    {
      "cell_type": "markdown",
      "source": [
        "#Final Exam"
      ],
      "metadata": {
        "id": "lqQwftBkI-iG"
      }
    },
    {
      "cell_type": "markdown",
      "source": [
        "##### *Problem 1*"
      ],
      "metadata": {
        "id": "z4sPeqgMMG_r"
      }
    },
    {
      "cell_type": "code",
      "execution_count": 9,
      "metadata": {
        "id": "iCN3l65wIvVd",
        "colab": {
          "base_uri": "https://localhost:8080/"
        },
        "outputId": "b36d413b-e13e-41f8-9ee2-4288e917c70d"
      },
      "outputs": [
        {
          "output_type": "stream",
          "name": "stdout",
          "text": [
            "Matrix A:\n",
            " [[1 1 1]\n",
            " [1 0 4]\n",
            " [0 0 5]]\n",
            "\n",
            "Matrix B:\n",
            " [[1 1 1]\n",
            " [1 0 4]\n",
            " [0 0 5]]\n",
            "\n",
            "Inverse of Matrix A:\n",
            " [[13.]\n",
            " [57.]\n",
            " [19.]]\n"
          ]
        }
      ],
      "source": [
        "import numpy as np\n",
        "A = np.array([[1,1,1],[1,0,4],[0,0,5]])\n",
        "print(f'Matrix A:\\n {A}')\n",
        "print()\n",
        "B = np.array ([[89],[89],[95]])\n",
        "print(f'Matrix B:\\n {A}')\n",
        "C = np.linalg.inv(A).dot(B)\n",
        "print(f'\\nInverse of Matrix A:\\n {C}')"
      ]
    },
    {
      "cell_type": "markdown",
      "source": [
        "##### *Problem 2*"
      ],
      "metadata": {
        "id": "GdeFmuftMHuT"
      }
    },
    {
      "cell_type": "code",
      "source": [
        "import numpy as np\n",
        "A = np.array([[3,-1,1],[9,-3,3],[-12,4,-4]])\n",
        "print(f'Matrix A:\\n {A}')\n",
        "\n",
        "#since it is a singular matrix, we cannot inverse it. However, we can still see the output if we use pinv\n",
        "inv_A = np.linalg.pinv(A)\n",
        "print(f'\\inverse of Matrix A: \\n{inv_A}')\n",
        "\n",
        "B = np.array([[5],[10],[-20]])\n",
        "print(f'Matrix A:\\n {A}')\n",
        "\n",
        "X = np.dot(inv_A, B)\n",
        "print(f'\\nDot product:\\n {X}')\n",
        "\n",
        "C = np.dot(A, X)\n",
        "print(f'\\nChecking:\\n {C}')"
      ],
      "metadata": {
        "id": "9T9-fes2MEaE",
        "colab": {
          "base_uri": "https://localhost:8080/"
        },
        "outputId": "3259ca9c-968a-4291-aa61-7e30b682ae49"
      },
      "execution_count": 10,
      "outputs": [
        {
          "output_type": "stream",
          "name": "stdout",
          "text": [
            "Matrix A:\n",
            " [[  3  -1   1]\n",
            " [  9  -3   3]\n",
            " [-12   4  -4]]\n",
            "\\inverse of Matrix A: \n",
            "[[ 0.01048951  0.03146853 -0.04195804]\n",
            " [-0.0034965  -0.01048951  0.01398601]\n",
            " [ 0.0034965   0.01048951 -0.01398601]]\n",
            "Matrix A:\n",
            " [[  3  -1   1]\n",
            " [  9  -3   3]\n",
            " [-12   4  -4]]\n",
            "\n",
            "Dot product:\n",
            " [[ 1.20629371]\n",
            " [-0.4020979 ]\n",
            " [ 0.4020979 ]]\n",
            "\n",
            "Checking:\n",
            " [[  4.42307692]\n",
            " [ 13.26923077]\n",
            " [-17.69230769]]\n"
          ]
        }
      ]
    },
    {
      "cell_type": "markdown",
      "source": [
        "##### *Problem 3*"
      ],
      "metadata": {
        "id": "llgpTNTlMIBb"
      }
    },
    {
      "cell_type": "code",
      "source": [
        "import numpy as np\n",
        "from numpy.linalg import eig\n",
        "\n",
        "A = np.array([[8,5,-6],[-12,-9,12],[-3,-3,5]])\n",
        "print(A, \"\\n\")\n",
        "W, V = np.linalg.eig(A)\n",
        "\n",
        "print(\" The eigenvalues are: \\n\" ,W)\n",
        "print(\"\\n The eigenvectors are: \\n\" ,V.round())"
      ],
      "metadata": {
        "id": "VyU7Bz1wMErU",
        "colab": {
          "base_uri": "https://localhost:8080/"
        },
        "outputId": "67b4aad0-c60a-4d76-f21f-93bed43b040f"
      },
      "execution_count": 7,
      "outputs": [
        {
          "output_type": "stream",
          "name": "stdout",
          "text": [
            "[[  8   5  -6]\n",
            " [-12  -9  12]\n",
            " [ -3  -3   5]] \n",
            "\n",
            " The eigenvalues are: \n",
            " [-1.  3.  2.]\n",
            "\n",
            " The eigenvectors are: \n",
            " [[ 0. -1.  1.]\n",
            " [-1.  1.  0.]\n",
            " [-0. -0.  1.]]\n"
          ]
        }
      ]
    }
  ]
}