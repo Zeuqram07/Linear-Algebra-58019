{
  "nbformat": 4,
  "nbformat_minor": 0,
  "metadata": {
    "colab": {
      "name": "Practical Lab Exam 1.ipynb",
      "provenance": [],
      "authorship_tag": "ABX9TyMvnALeKC88Mkp5eW0WaW6E",
      "include_colab_link": true
    },
    "kernelspec": {
      "name": "python3",
      "display_name": "Python 3"
    },
    "language_info": {
      "name": "python"
    }
  },
  "cells": [
    {
      "cell_type": "markdown",
      "metadata": {
        "id": "view-in-github",
        "colab_type": "text"
      },
      "source": [
        "<a href=\"https://colab.research.google.com/github/Zeuqram07/Linear-Algebra-58020/blob/main/Practical_Lab_Exam_1.ipynb\" target=\"_parent\"><img src=\"https://colab.research.google.com/assets/colab-badge.svg\" alt=\"Open In Colab\"/></a>"
      ]
    },
    {
      "cell_type": "markdown",
      "metadata": {
        "id": "-54n5vHFC12g"
      },
      "source": [
        "## Practical Lab Exam 1"
      ]
    },
    {
      "cell_type": "markdown",
      "metadata": {
        "id": "5cnacOGvR_2t"
      },
      "source": [
        "Problem 1. A"
      ]
    },
    {
      "cell_type": "code",
      "metadata": {
        "colab": {
          "base_uri": "https://localhost:8080/"
        },
        "id": "dyWm_jdCCs4F",
        "outputId": "70428cc1-3162-42f3-8b9d-7445340c79a8"
      },
      "source": [
        "import numpy as np\n",
        "#1A WY\n",
        "W = np.array([[1,-3],[2,-2],[3,1]])\n",
        "print(\"W =\",W)"
      ],
      "execution_count": 11,
      "outputs": [
        {
          "output_type": "stream",
          "name": "stdout",
          "text": [
            "W = [[ 1 -3]\n",
            " [ 2 -2]\n",
            " [ 3  1]]\n"
          ]
        }
      ]
    },
    {
      "cell_type": "code",
      "metadata": {
        "colab": {
          "base_uri": "https://localhost:8080/"
        },
        "id": "cD3dp-39SazF",
        "outputId": "bca9117f-0141-49fe-d708-2fc8c9a82b7e"
      },
      "source": [
        "Y = np.array([[1,2,0],[0,-1,2]])\n",
        "print(\"Y =\",Y)"
      ],
      "execution_count": 12,
      "outputs": [
        {
          "output_type": "stream",
          "name": "stdout",
          "text": [
            "Y = [[ 1  2  0]\n",
            " [ 0 -1  2]]\n"
          ]
        }
      ]
    },
    {
      "cell_type": "code",
      "metadata": {
        "colab": {
          "base_uri": "https://localhost:8080/"
        },
        "id": "wnycVuvPSrg7",
        "outputId": "df729a60-a1e0-4071-8bef-fcac0c73d4be"
      },
      "source": [
        "print(np.dot(W, Y))"
      ],
      "execution_count": 9,
      "outputs": [
        {
          "output_type": "stream",
          "name": "stdout",
          "text": [
            "[[ 1  5 -6]\n",
            " [ 2  6 -4]\n",
            " [ 3  5  2]]\n"
          ]
        }
      ]
    },
    {
      "cell_type": "markdown",
      "metadata": {
        "id": "Ws153PobS9N0"
      },
      "source": [
        "Problem 1. B"
      ]
    },
    {
      "cell_type": "code",
      "metadata": {
        "colab": {
          "base_uri": "https://localhost:8080/"
        },
        "id": "qs9hX5V1NKQ2",
        "outputId": "5d954d34-540a-4431-e9c6-4f1a738a05c7"
      },
      "source": [
        "#1B Z+Z\n",
        "Z = np.array([[0,1],[2,3]])\n",
        "Z = np.array([[0,1],[2,3]])\n",
        "print(Z+Z)"
      ],
      "execution_count": 3,
      "outputs": [
        {
          "output_type": "stream",
          "name": "stdout",
          "text": [
            "[[0 2]\n",
            " [4 6]]\n"
          ]
        }
      ]
    },
    {
      "cell_type": "markdown",
      "metadata": {
        "id": "XEW_N0jATKIx"
      },
      "source": [
        "Problem 1. C"
      ]
    },
    {
      "cell_type": "code",
      "metadata": {
        "colab": {
          "base_uri": "https://localhost:8080/"
        },
        "id": "hJ35jKXITID7",
        "outputId": "81b7c352-2220-43c1-f479-84ae0a621aab"
      },
      "source": [
        "X = np.array([[3,2,1],[-1,2,3],[2,-1,1]])\n",
        "print(\"X =\",X)\n",
        "print()\n",
        "print(\"Answer: \",3*X)"
      ],
      "execution_count": 17,
      "outputs": [
        {
          "output_type": "stream",
          "name": "stdout",
          "text": [
            "X = [[ 3  2  1]\n",
            " [-1  2  3]\n",
            " [ 2 -1  1]]\n",
            "\n",
            "Answer:  [[ 9  6  3]\n",
            " [-3  6  9]\n",
            " [ 6 -3  3]]\n"
          ]
        }
      ]
    },
    {
      "cell_type": "markdown",
      "metadata": {
        "id": "klagVOHVUv-c"
      },
      "source": [
        "Problem 2. A"
      ]
    },
    {
      "cell_type": "code",
      "metadata": {
        "colab": {
          "base_uri": "https://localhost:8080/"
        },
        "id": "hXMP-9J2Uypq",
        "outputId": "17942b87-4616-49f3-b7e9-c93e0f956b8d"
      },
      "source": [
        "Y = np.array([[1,2,0],[0,-1,2]])\n",
        "W = np.array([[1,-3],[2,-2],[3,1]])\n",
        "print(np.dot(Y,W)^2)"
      ],
      "execution_count": 22,
      "outputs": [
        {
          "output_type": "stream",
          "name": "stdout",
          "text": [
            "[[ 7 -5]\n",
            " [ 6  6]]\n"
          ]
        }
      ]
    },
    {
      "cell_type": "markdown",
      "metadata": {
        "id": "McwEp-RIViUq"
      },
      "source": [
        "Problem 2. B"
      ]
    },
    {
      "cell_type": "code",
      "metadata": {
        "colab": {
          "base_uri": "https://localhost:8080/"
        },
        "id": "Gbgc0vjrVl2R",
        "outputId": "5ae81efe-56e3-4dc1-f9ab-99490e6077ad"
      },
      "source": [
        "R = np.dot(W,Y)\n",
        "R"
      ],
      "execution_count": 25,
      "outputs": [
        {
          "output_type": "execute_result",
          "data": {
            "text/plain": [
              "array([[ 1,  5, -6],\n",
              "       [ 2,  6, -4],\n",
              "       [ 3,  5,  2]])"
            ]
          },
          "metadata": {},
          "execution_count": 25
        }
      ]
    },
    {
      "cell_type": "code",
      "metadata": {
        "colab": {
          "base_uri": "https://localhost:8080/"
        },
        "id": "iMaV4IC9ZVuz",
        "outputId": "bf030797-85f6-439c-c02b-982ba07765b6"
      },
      "source": [
        "print(np.subtract(R,X))"
      ],
      "execution_count": 26,
      "outputs": [
        {
          "output_type": "stream",
          "name": "stdout",
          "text": [
            "[[-2  3 -7]\n",
            " [ 3  4 -7]\n",
            " [ 1  6  1]]\n"
          ]
        }
      ]
    },
    {
      "cell_type": "markdown",
      "metadata": {
        "id": "sRQ_607-aOBy"
      },
      "source": [
        "Problem 2. C"
      ]
    },
    {
      "cell_type": "code",
      "metadata": {
        "colab": {
          "base_uri": "https://localhost:8080/"
        },
        "id": "x6KOqirnbWgJ",
        "outputId": "3bdd0852-74b4-4f60-c3c3-c7935f952dcd"
      },
      "source": [
        "Y = np.array([[1,2,0],[0,-1,2]])\n",
        "W = np.array([[1,-3],[2,-2],[3,1]])\n",
        "Z = np.array([[0,1],[2,3]])\n",
        "print(np.dot(Y,W)-Z^2)"
      ],
      "execution_count": 30,
      "outputs": [
        {
          "output_type": "stream",
          "name": "stdout",
          "text": [
            "[[ 7 -6]\n",
            " [ 0  3]]\n"
          ]
        }
      ]
    }
  ]
}