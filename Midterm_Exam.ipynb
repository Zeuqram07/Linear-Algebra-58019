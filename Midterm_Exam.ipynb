{
  "nbformat": 4,
  "nbformat_minor": 0,
  "metadata": {
    "colab": {
      "name": "Midterm Exam.ipynb",
      "provenance": [],
      "authorship_tag": "ABX9TyN5uopWqFm4erFcfUuXG/CU",
      "include_colab_link": true
    },
    "kernelspec": {
      "name": "python3",
      "display_name": "Python 3"
    },
    "language_info": {
      "name": "python"
    }
  },
  "cells": [
    {
      "cell_type": "markdown",
      "metadata": {
        "id": "view-in-github",
        "colab_type": "text"
      },
      "source": [
        "<a href=\"https://colab.research.google.com/github/Zeuqram07/Linear-Algebra-58020/blob/main/Midterm_Exam.ipynb\" target=\"_parent\"><img src=\"https://colab.research.google.com/assets/colab-badge.svg\" alt=\"Open In Colab\"/></a>"
      ]
    },
    {
      "cell_type": "markdown",
      "metadata": {
        "id": "KEF_D8uSFlZX"
      },
      "source": [
        "## Midterm Exam"
      ]
    },
    {
      "cell_type": "markdown",
      "metadata": {
        "id": "jI-yuGRgAUV_"
      },
      "source": [
        "Answer for question 1"
      ]
    },
    {
      "cell_type": "code",
      "metadata": {
        "colab": {
          "base_uri": "https://localhost:8080/"
        },
        "id": "19uN1EX997vb",
        "outputId": "95544980-cf17-4c0e-c5bc-06dc613b8c8e"
      },
      "source": [
        "import numpy as np\n",
        "A = np.array([[2,4,6,8,10],[1,3,5,7,9],[1,2,3,4,5],[10,9,8,7,6],[5,10,15,20,25]]) #5x5 matrix\n",
        "print(A)"
      ],
      "execution_count": 11,
      "outputs": [
        {
          "output_type": "stream",
          "name": "stdout",
          "text": [
            "[[ 2  4  6  8 10]\n",
            " [ 1  3  5  7  9]\n",
            " [ 1  2  3  4  5]\n",
            " [10  9  8  7  6]\n",
            " [ 5 10 15 20 25]]\n"
          ]
        }
      ]
    },
    {
      "cell_type": "markdown",
      "metadata": {
        "id": "_o-IYaIlBAMU"
      },
      "source": [
        "Answer for question 2"
      ]
    },
    {
      "cell_type": "code",
      "metadata": {
        "colab": {
          "base_uri": "https://localhost:8080/"
        },
        "id": "O-0wC044Bc4m",
        "outputId": "1f285c5b-301b-44c3-a68b-f04f4c52c61b"
      },
      "source": [
        "import numpy as np\n",
        "A = np.array([[1,1,1,1],[0,1,1,1],[0,0,1,1],[0,0,0,1]]) #4x4 matrix\n",
        "print(A)"
      ],
      "execution_count": 12,
      "outputs": [
        {
          "output_type": "stream",
          "name": "stdout",
          "text": [
            "[[1 1 1 1]\n",
            " [0 1 1 1]\n",
            " [0 0 1 1]\n",
            " [0 0 0 1]]\n"
          ]
        }
      ]
    },
    {
      "cell_type": "markdown",
      "metadata": {
        "id": "2PF5kO8fBo5V"
      },
      "source": [
        "Answer for question 3"
      ]
    },
    {
      "cell_type": "code",
      "metadata": {
        "colab": {
          "base_uri": "https://localhost:8080/"
        },
        "id": "EFvmdOo5BqzJ",
        "outputId": "d1fa2d71-bb78-4ffc-dd8e-d910b4979089"
      },
      "source": [
        "import numpy as np\n",
        "A =np.array([[6,1,6],[1,5,2],[6,2,7]])\n",
        "print(A)\n",
        "print(\"/n\")\n",
        "#prints transpose matrix\n",
        "\n",
        "print(np.transpose(A))"
      ],
      "execution_count": 13,
      "outputs": [
        {
          "output_type": "stream",
          "name": "stdout",
          "text": [
            "[[6 1 6]\n",
            " [1 5 2]\n",
            " [6 2 7]]\n",
            "/n\n",
            "[[6 1 6]\n",
            " [1 5 2]\n",
            " [6 2 7]]\n"
          ]
        }
      ]
    },
    {
      "cell_type": "markdown",
      "metadata": {
        "id": "2FOH54esBrOS"
      },
      "source": [
        "Answer for question 4"
      ]
    },
    {
      "cell_type": "code",
      "metadata": {
        "colab": {
          "base_uri": "https://localhost:8080/"
        },
        "id": "bLSh7nHmBteN",
        "outputId": "7be522c3-eaf0-4a4c-e37d-1f5ffcbc0e02"
      },
      "source": [
        "import numpy as np\n",
        "A=np.array(([[1,2,3],[2,3,3],[3,4,-2]]))\n",
        "B=(np.linalg.inv(A))\n",
        "print(B)"
      ],
      "execution_count": 14,
      "outputs": [
        {
          "output_type": "stream",
          "name": "stdout",
          "text": [
            "[[-3.6  3.2 -0.6]\n",
            " [ 2.6 -2.2  0.6]\n",
            " [-0.2  0.4 -0.2]]\n"
          ]
        }
      ]
    },
    {
      "cell_type": "markdown",
      "metadata": {
        "id": "juSVBwwUB76m"
      },
      "source": [
        "Answer for question 5"
      ]
    },
    {
      "cell_type": "code",
      "metadata": {
        "colab": {
          "base_uri": "https://localhost:8080/"
        },
        "id": "PKnK3hZ0B--_",
        "outputId": "9bcc90fa-9149-4a21-9e37-21f3a68edbcc"
      },
      "source": [
        "import numpy as np\n",
        "A = np.array([[1,2,3],[2,3,3],[3,4,-2]])\n",
        "print(A)\n",
        "print(np.linalg.det(A))\n",
        "print(round(np.linalg.det(A))) #inverse of the matrix"
      ],
      "execution_count": 15,
      "outputs": [
        {
          "output_type": "stream",
          "name": "stdout",
          "text": [
            "[[ 1  2  3]\n",
            " [ 2  3  3]\n",
            " [ 3  4 -2]]\n",
            "5.000000000000001\n",
            "5\n"
          ]
        }
      ]
    },
    {
      "cell_type": "markdown",
      "metadata": {
        "id": "3FZEZtHBDqpO"
      },
      "source": [
        "Answer for question 6"
      ]
    },
    {
      "cell_type": "code",
      "metadata": {
        "colab": {
          "base_uri": "https://localhost:8080/"
        },
        "id": "mK1iaYtvDsxP",
        "outputId": "c538e08d-fe76-421f-c391-1d7be475df79"
      },
      "source": [
        "import numpy as np\n",
        "c = np.array([[5,4,1],[10,9,4],[10,13,15]])\n",
        "inv_c = np.linalg.inv(c)\n",
        "print(c)\n",
        "print()\n",
        "print(inv_c)\n",
        "d = np.array([[3.4],[8.8],[19.2]])\n",
        "x = np.dot(inv_c,d)\n",
        "print(\"roots =\")\n",
        "print(x) #prints the roots of the linear equations\n",
        "z = np.dot(c,x) #checking\n",
        "print(\"checking =\")\n",
        "print(z)"
      ],
      "execution_count": 16,
      "outputs": [
        {
          "output_type": "stream",
          "name": "stdout",
          "text": [
            "[[ 5  4  1]\n",
            " [10  9  4]\n",
            " [10 13 15]]\n",
            "\n",
            "[[ 5.53333333 -3.13333333  0.46666667]\n",
            " [-7.33333333  4.33333333 -0.66666667]\n",
            " [ 2.66666667 -1.66666667  0.33333333]]\n",
            "roots =\n",
            "[[0.2]\n",
            " [0.4]\n",
            " [0.8]]\n",
            "checking =\n",
            "[[ 3.4]\n",
            " [ 8.8]\n",
            " [19.2]]\n"
          ]
        }
      ]
    }
  ]
}